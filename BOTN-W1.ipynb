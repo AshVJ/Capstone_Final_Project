{
 "cells": [
  {
   "cell_type": "markdown",
   "metadata": {},
   "source": [
    "# The Battle of Neighborhoods - Part 1/Week 1"
   ]
  },
  {
   "cell_type": "markdown",
   "metadata": {},
   "source": [
    "## Section 1 - Context and Problem Nature"
   ]
  },
  {
   "cell_type": "markdown",
   "metadata": {},
   "source": [
    "### Problem Background"
   ]
  },
  {
   "cell_type": "markdown",
   "metadata": {},
   "source": [
    "Melbourne is the capitol of Victoria, Australia. The Economist Intelligence Unit's 2017 Global Liveability Index awarded Melbourne as the world's top city for seven years running. Currently Melbourne is the second most livable city, toppled by Vienna (Austria) to be the top liveable city in the world.\n",
    "\n",
    "Melbourne is very academic and a creative city home to world-class academics and an exciting entrepreneurial spirit, if you study in Melbourne you will soon be thinking outside the box (and around it, above it and below it, too). Melbourne’s winding alleyways are magical, they will probably make you feel as though you have stepped into a real-life Wonderland. Melbourne is a melting pot of communities and is home to many different cultural celebrations. Currently, 3500 to 4000 people enter Victoria each year under the Humanitarian Program for refugees and others in refugee-like situations.\n",
    "\n",
    "All this means the Melbourne's market is highly competitive. For someone moving to Melbourne or Victoria, it is important to understand safe and comfortable places to live. Or, even for people moving within Victoria, having the insights around crime and safety would mean a good and comfortable move. "
   ]
  },
  {
   "cell_type": "markdown",
   "metadata": {},
   "source": [
    "### Problem Idea for this Project"
   ]
  },
  {
   "cell_type": "markdown",
   "metadata": {},
   "source": [
    "The idea for this project is to show insights driven using venue and location data from FourSquare, backed up with open source crime data from Crime Statistics Victoria (https://www.crimestatistics.vic.gov.au/). We can enable the users of this project to not only choose the safest suburb, but also the safest suburb with the right amenities. We will use maps from FourSquare to present the findings. \n",
    "\n",
    "How will we do this\n",
    "1. Use data from FourSquare to find the top venues in Melbourne/Victoria\n",
    "2. Augument this data with crime data around those venues\n",
    "3. Maps are presented to users and suburbs/venues can be used"
   ]
  },
  {
   "cell_type": "markdown",
   "metadata": {},
   "source": [
    "### Targeted Audience"
   ]
  },
  {
   "cell_type": "markdown",
   "metadata": {},
   "source": [
    "This project is targeted for\n",
    "\n",
    "1. Young couples who enjoy the city life\n",
    "2. Migrants to Victoria\n",
    "3. Families moving within Victoria\n",
    "\n",
    "This project will enable the above people to understand the crime statistics and also the life in those suburbs to make a decision"
   ]
  },
  {
   "cell_type": "markdown",
   "metadata": {},
   "source": [
    "## Section 2 - Data Used"
   ]
  },
  {
   "cell_type": "markdown",
   "metadata": {},
   "source": [
    "### Crime Statistics Data - Victoria"
   ]
  },
  {
   "cell_type": "markdown",
   "metadata": {},
   "source": [
    "The Crime statistics data for victoria can be download from https://www.crimestatistics.vic.gov.au/crime-statisticslatest-crime-data/download-data-0. We have downloaded data which holds \n",
    "\n",
    "1. Crime data for Year 2019\n",
    "2. Contains Region, postcode, and suburb information\n",
    "3. Contains Offence along with the number of incidents\n",
    "\n",
    "We will use this data to mainly aligned with foursquare data. Using the above data, we should be able to understand the number of criminal incidents occuring within a specific locality (Suburb name).\n",
    "\n",
    "We can also use the data to understand the type of criminal events occuring, along with the top 5 types of events for a. specific suburb.\n",
    "\n",
    "The crimes along with the types will be pivoted to get total incidents per Suburb/PostCode\n",
    "\n",
    "1. Our initial subset had 67539 rows across 8 columns (Year, Area, Postcode, Suburb, Offence Division, Offence Subdivision, Offence Subgroup, Incidents Recorded)\n",
    "2. After analysis 5 columns were not really necessary and are removed. We know the data is for year 2019, the area is too big to consider and will not be of relevance, details around the offence's subgroup and subdivision isn't really necessary.\n",
    "3. Once the above 5 columns have been removed, we will need to convert Incidents Recorded column to integer to re-group and sum\n",
    "4. This activity has resulted in 7470 records across 3 column. See below an example subset\n",
    "\n",
    "|Suburb|Offence|Incidents|\n",
    "|------|-------|---------|\n",
    "|Melbourne|A Crimes against the person|4226|\n",
    "|Melbourne|B Property and deception offences|15951|\n",
    "|Melbourne|C Drug offences|1357|\n",
    "|Melbourne|D Public order and security offences|4355|\n",
    "|Melbourne|E Justice procedures offences|4125|\n",
    "\n",
    "There are multiple ways to extract the latitude and longitude data from geosites, but for the data we have it will cost us a lot of money. The alternate was to download the data available online https://www.matthewproctor.com/full_australian_postcodes_vic\n",
    "\n",
    "The above data after merge look like below data\n",
    "\n",
    "|Suburb|Offence|Incidents|Latitude|Longitude|\n",
    "|---|---|---|---|---|\n",
    "|ABBEYARD|B Property and deception offences|1|-36.554037|146.827590|\n",
    "|ABBOTSFORD|A Crimes against the person|137|-37.803515|144.998203|\n",
    "|ABBOTSFORD|B Property and deception offences|891|-37.803515|144.998203|\n",
    "|ABBOTSFORD|C Drug offences|68|-37.803515|144.998203|\n",
    "|ABBOTSFORD|D Public order and security offences|80|-37.803515|144.998203|\n",
    "\n",
    "We will use this base data to merge with Four Square data\n",
    "\n",
    "We will also use data from https://www.freemaptools.com/find-australian-postcodes-inside-radius.htm to find post codes within a 150 km radius of Melbourne"
   ]
  },
  {
   "cell_type": "code",
   "execution_count": null,
   "metadata": {},
   "outputs": [],
   "source": []
  },
  {
   "cell_type": "markdown",
   "metadata": {},
   "source": [
    "### FourSquare Data"
   ]
  },
  {
   "cell_type": "markdown",
   "metadata": {},
   "source": [
    "We can extract the top picks from FourSquare data. We will only use the Restaurant data for this study\n",
    "\n",
    "The foursquare will be extracted using beautiful soup and requests for the top picks of Melbourne. The major challenge will be to make sure the data from FourSquare is aligned to the data from Crimes statistics Victoria. We will require to cleanse the data and merge them for each suburb\n",
    "\n",
    "Once we merge this data, we should be able to point out the suburbs with the lowest crime rate. We can pick the top 10 lowest crime rate suburbs."
   ]
  },
  {
   "cell_type": "code",
   "execution_count": null,
   "metadata": {},
   "outputs": [],
   "source": []
  }
 ],
 "metadata": {
  "kernelspec": {
   "display_name": "Python",
   "language": "python",
   "name": "conda-env-python-py"
  },
  "language_info": {
   "codemirror_mode": {
    "name": "ipython",
    "version": 3
   },
   "file_extension": ".py",
   "mimetype": "text/x-python",
   "name": "python",
   "nbconvert_exporter": "python",
   "pygments_lexer": "ipython3",
   "version": "3.6.7"
  }
 },
 "nbformat": 4,
 "nbformat_minor": 4
}
