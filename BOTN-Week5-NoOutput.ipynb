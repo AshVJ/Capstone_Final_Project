{
 "cells": [
  {
   "cell_type": "markdown",
   "metadata": {
    "collapsed": true
   },
   "source": [
    "# Import Victoria Crime Data"
   ]
  },
  {
   "cell_type": "markdown",
   "metadata": {},
   "source": [
    "### Import Required Libraries"
   ]
  },
  {
   "cell_type": "code",
   "execution_count": null,
   "metadata": {},
   "outputs": [],
   "source": [
    "import pandas as pd\n",
    "import numpy as np\n",
    "\n",
    "pd.set_option('display.max_columns', None)\n",
    "pd.set_option('display.max_rows', None)\n",
    "\n",
    "!pip install folium\n",
    "!pip install beautifulsoup4\n",
    "\n",
    "import requests\n",
    "import yaml\n",
    "import matplotlib as mpl\n",
    "import matplotlib.pyplot as plt\n",
    "import matplotlib.cm as cm\n",
    "import matplotlib.colors as colors\n",
    "import folium\n",
    "\n",
    "from bs4 import BeautifulSoup\n",
    "from sklearn.neighbors import DistanceMetric\n",
    "from folium.plugins import MarkerCluster\n",
    "from folium.plugins import FastMarkerCluster\n",
    "from folium import plugins\n",
    "from folium import plugins\n",
    "from folium.plugins import HeatMap\n",
    "\n",
    "mpl.style.use('ggplot') # optional: for ggplot-like style\n"
   ]
  },
  {
   "cell_type": "markdown",
   "metadata": {},
   "source": [
    "### Download CSV file"
   ]
  },
  {
   "cell_type": "code",
   "execution_count": null,
   "metadata": {},
   "outputs": [],
   "source": [
    "url = 'https://raw.githubusercontent.com/AshVJ/Capstone_Final_Project/master/VICCrimeData.csv'\n",
    "df = pd.read_csv(url, error_bad_lines=False)\n",
    "df.shape"
   ]
  },
  {
   "cell_type": "code",
   "execution_count": null,
   "metadata": {},
   "outputs": [],
   "source": [
    "df.head()"
   ]
  },
  {
   "cell_type": "markdown",
   "metadata": {},
   "source": [
    "### Remove column which are not necessary"
   ]
  },
  {
   "cell_type": "code",
   "execution_count": null,
   "metadata": {},
   "outputs": [],
   "source": [
    "df.drop([\"Year\", \"Area\", \"Postcode\", \"Offence Subdivision\", \"Offence Subgroup\"], axis=1, inplace=True)\n",
    "df.shape"
   ]
  },
  {
   "cell_type": "code",
   "execution_count": null,
   "metadata": {},
   "outputs": [],
   "source": [
    "df.head()"
   ]
  },
  {
   "cell_type": "markdown",
   "metadata": {},
   "source": [
    "### We need to cleanse the data and pivot/sub-total them as there will be duplicates"
   ]
  },
  {
   "cell_type": "code",
   "execution_count": null,
   "metadata": {},
   "outputs": [],
   "source": [
    "df.rename(columns={\"Offence Division\": \"Offence\", \"Incidents Recorded\": \"Incidents\"}, inplace=True)"
   ]
  },
  {
   "cell_type": "code",
   "execution_count": null,
   "metadata": {},
   "outputs": [],
   "source": [
    "df.dtypes"
   ]
  },
  {
   "cell_type": "code",
   "execution_count": null,
   "metadata": {},
   "outputs": [],
   "source": [
    "#Convert the contents of incidents into float, but first remove ,\n",
    "\n",
    "df.Incidents = df.Incidents.str.replace(\",\", \"\")\n",
    "\n",
    "\n",
    "#Replace all NAN values to 0\n",
    "df = df.dropna(subset=['Incidents'])\n",
    "\n",
    "df.dtypes"
   ]
  },
  {
   "cell_type": "code",
   "execution_count": null,
   "metadata": {},
   "outputs": [],
   "source": [
    "\n",
    "df[\"Incidents\"] = df[\"Incidents\"].astype(int)\n",
    "df.dtypes"
   ]
  },
  {
   "cell_type": "code",
   "execution_count": null,
   "metadata": {},
   "outputs": [],
   "source": [
    "# lets group the data to remove duplicates\n",
    "\n",
    "df = df.groupby(['Suburb','Offence'])['Incidents'].sum().reset_index()\n",
    "df.shape"
   ]
  },
  {
   "cell_type": "markdown",
   "metadata": {},
   "source": [
    "### Download the latitude and longitude data"
   ]
  },
  {
   "cell_type": "code",
   "execution_count": null,
   "metadata": {},
   "outputs": [],
   "source": [
    "url2 = 'https://raw.githubusercontent.com/AshVJ/Capstone_Final_Project/master/VicLatLongCSV.csv'\n",
    "df_ll = pd.read_csv(url2, error_bad_lines=False)\n",
    "df_ll.shape"
   ]
  },
  {
   "cell_type": "markdown",
   "metadata": {},
   "source": [
    "### Create a new data set with latitude and longitude to map"
   ]
  },
  {
   "cell_type": "code",
   "execution_count": null,
   "metadata": {},
   "outputs": [],
   "source": [
    "# First find the columns names\n",
    "\n",
    "df.head()"
   ]
  },
  {
   "cell_type": "code",
   "execution_count": null,
   "metadata": {},
   "outputs": [],
   "source": [
    "df_ll.head()"
   ]
  },
  {
   "cell_type": "code",
   "execution_count": null,
   "metadata": {},
   "outputs": [],
   "source": [
    "#as you can  see the column case sensitivity doesn't match across the data frames, so lets fix locatity data frame\n",
    "\n",
    "df_ll['Locality'] = df_ll['Locality'].str.upper()\n",
    "df['Suburb'] = df['Suburb'].str.upper()"
   ]
  },
  {
   "cell_type": "markdown",
   "metadata": {},
   "source": [
    "### Merge columns"
   ]
  },
  {
   "cell_type": "code",
   "execution_count": null,
   "metadata": {},
   "outputs": [],
   "source": [
    "#next step is to merge both data sets to get lat and long on our crimes data\n",
    "\n",
    "df_viccrimedata =  df.merge(df_ll, left_on='Suburb', right_on='Locality', how='left')"
   ]
  },
  {
   "cell_type": "code",
   "execution_count": null,
   "metadata": {},
   "outputs": [],
   "source": [
    "#we can also see the data in suburb acrosss both data\n",
    "#df_ll.head()\n",
    "df_viccrimedata.head(10)"
   ]
  },
  {
   "cell_type": "code",
   "execution_count": null,
   "metadata": {},
   "outputs": [],
   "source": [
    "#check if there are any column with null values before proceeding\n",
    "\n",
    "df_viccrimedata.isnull().sum()"
   ]
  },
  {
   "cell_type": "code",
   "execution_count": null,
   "metadata": {},
   "outputs": [],
   "source": [
    "#Remove column locality in data frame\n",
    "\n",
    "df_viccrimedata.drop([\"Locality\"], axis=1, inplace=True)\n",
    "df_viccrimedata.head()"
   ]
  },
  {
   "cell_type": "markdown",
   "metadata": {},
   "source": [
    "### To target our target audience, let us consider the top 307 suburbs liveable"
   ]
  },
  {
   "cell_type": "markdown",
   "metadata": {},
   "source": [
    "#### Download list of suburbs from domain.com.au for 2019"
   ]
  },
  {
   "cell_type": "code",
   "execution_count": null,
   "metadata": {},
   "outputs": [],
   "source": [
    "#Download data from https://www.domain.com.au/liveable-melbourne/melbournes-most-liveable-suburbs-2019/melbournes-307-suburbs-ranked-for-liveability-2019-898676/\n",
    "url3 = 'https://raw.githubusercontent.com/AshVJ/Capstone_Final_Project/master/Top307VicSuburbsDomain.csv'\n",
    "df_top307 = pd.read_csv(url3, error_bad_lines=False)\n",
    "df_top307.shape"
   ]
  },
  {
   "cell_type": "code",
   "execution_count": null,
   "metadata": {},
   "outputs": [],
   "source": [
    "df_top307.head()"
   ]
  },
  {
   "cell_type": "code",
   "execution_count": null,
   "metadata": {},
   "outputs": [],
   "source": [
    "df_top307['Suburb'] = df_top307['Suburb'].str.upper()\n",
    "df_top307.head()"
   ]
  },
  {
   "cell_type": "code",
   "execution_count": null,
   "metadata": {},
   "outputs": [],
   "source": [
    "#let us use the subset to get lat long and incidents\n",
    "\n",
    "df_307CrimeData =  df_top307.merge(df, left_on='Suburb', right_on='Suburb', how='left')\n",
    "\n",
    "df_307CrimeData.drop([\"Ranking\"], axis=1, inplace=True)\n",
    "df_307CrimeData.head()"
   ]
  },
  {
   "cell_type": "code",
   "execution_count": null,
   "metadata": {},
   "outputs": [],
   "source": [
    "#check if there are any column with null values before proceeding\n",
    "\n",
    "df_307CrimeData.loc[df_307CrimeData['Incidents'].isnull()]\n",
    "df_307CrimeData.isnull().sum()\n",
    "\n",
    "#Let us drop where the values don't match\n",
    "df_307CrimeData = df_307CrimeData.dropna(subset=['Incidents'])\n",
    "df_307CrimeData.shape"
   ]
  },
  {
   "cell_type": "markdown",
   "metadata": {},
   "source": [
    "### We have now successfully come down from 34K+ records to less than 1.3K records. This is a good data set to use"
   ]
  },
  {
   "cell_type": "code",
   "execution_count": null,
   "metadata": {},
   "outputs": [],
   "source": [
    "df_307CrimeData =  df_307CrimeData.merge(df_ll, left_on='Suburb', right_on='Locality', how='left')\n",
    "df_307CrimeData.drop(['Locality'], axis=1, inplace=True)\n",
    "df_307CrimeData.head()"
   ]
  },
  {
   "cell_type": "markdown",
   "metadata": {},
   "source": [
    "### Lets create a frame to hold unique list of suburbs and lat long based on merged data"
   ]
  },
  {
   "cell_type": "code",
   "execution_count": null,
   "metadata": {},
   "outputs": [],
   "source": [
    "df_unq_sub = df_307CrimeData[['Latitude','Longitude']].copy()"
   ]
  },
  {
   "cell_type": "code",
   "execution_count": null,
   "metadata": {},
   "outputs": [],
   "source": [
    "df_unq_sub.shape"
   ]
  },
  {
   "cell_type": "code",
   "execution_count": null,
   "metadata": {},
   "outputs": [],
   "source": [
    "df_unq_sub.sort_values('Latitude', inplace = True)\n",
    "df_unq_sub.head()"
   ]
  },
  {
   "cell_type": "code",
   "execution_count": null,
   "metadata": {},
   "outputs": [],
   "source": [
    "df_unq_sub.drop_duplicates(inplace = True)\n",
    "df_unq_sub.shape"
   ]
  },
  {
   "cell_type": "code",
   "execution_count": null,
   "metadata": {},
   "outputs": [],
   "source": [
    "df_unq_sub.head()"
   ]
  },
  {
   "cell_type": "code",
   "execution_count": null,
   "metadata": {},
   "outputs": [],
   "source": []
  },
  {
   "cell_type": "code",
   "execution_count": null,
   "metadata": {},
   "outputs": [],
   "source": []
  },
  {
   "cell_type": "markdown",
   "metadata": {},
   "source": [
    "## Import Foursquare Data for Melbourne/VICTORIA"
   ]
  },
  {
   "cell_type": "code",
   "execution_count": null,
   "metadata": {},
   "outputs": [],
   "source": [
    "CLIENT_ID = '0UOOVVQUXZTSOJ5302UDTB1L500GIY0RCTXSTUJYXUIFGJXG' # your Foursquare ID\n",
    "CLIENT_SECRET = 'IBQQ0QYDBQCBCDZ3QBRSVC1JWKU0HGMIIMDVM4DOJW34RGAB' # your Foursquare Secret\n",
    "VERSION = '20180605'\n",
    "LIMIT = 30"
   ]
  },
  {
   "cell_type": "markdown",
   "metadata": {},
   "source": [
    "### FourSquare Category Restarants to Visit in Melbourne"
   ]
  },
  {
   "cell_type": "markdown",
   "metadata": {},
   "source": [
    "FourSquare does not actually provide an API that will return a list of the top venues to visit in a city. To get this list we can though use the FourSquare website directly to request the top sites in Melbourne and then use BeautifulSoup to scrape the data we need. Once we have this starting data the other supplemental data we need to complete this dataset can be retrieved from using the FourSquare Venue API."
   ]
  },
  {
   "cell_type": "code",
   "execution_count": null,
   "metadata": {},
   "outputs": [],
   "source": [
    "LIMIT = 100 # limit of number of venues returned by Foursquare API\n",
    "radius = 500 # define radius\n",
    "\n",
    "url = 'https://api.foursquare.com/v2/venues/explore?&client_id={}&client_secret={}&v={}&ll={},{}&radius={}&limit={}'.format(\n",
    "    CLIENT_ID, \n",
    "    CLIENT_SECRET, \n",
    "    VERSION, \n",
    "    '-37.8142176', \n",
    "    '144.9631608', \n",
    "    radius, \n",
    "    LIMIT)\n",
    "url # displays the URL"
   ]
  },
  {
   "cell_type": "code",
   "execution_count": null,
   "metadata": {
    "scrolled": false
   },
   "outputs": [],
   "source": [
    "# Send the GET request and examine the resutls\n",
    "\n",
    "results = requests.get(url).json()\n",
    "results"
   ]
  },
  {
   "cell_type": "markdown",
   "metadata": {},
   "source": [
    "### Define the function that extracts the category of the venue"
   ]
  },
  {
   "cell_type": "code",
   "execution_count": null,
   "metadata": {},
   "outputs": [],
   "source": [
    "# define a function that extracts the category of the venue\n",
    "\n",
    "def get_category_type(row):\n",
    "    try:\n",
    "        categories_list = row['categories']\n",
    "    except:\n",
    "        categories_list = row['venue.categories']\n",
    "        \n",
    "    if len(categories_list) == 0:\n",
    "        return None\n",
    "    else:\n",
    "        return categories_list[0]['name']"
   ]
  },
  {
   "cell_type": "markdown",
   "metadata": {},
   "source": [
    "### Structure the json file into a pandas dataframe"
   ]
  },
  {
   "cell_type": "code",
   "execution_count": null,
   "metadata": {},
   "outputs": [],
   "source": [
    "from pandas.io.json import json_normalize"
   ]
  },
  {
   "cell_type": "code",
   "execution_count": null,
   "metadata": {},
   "outputs": [],
   "source": [
    "# clean the json and structure it into a pandas dataframe.\n",
    "\n",
    "venues = results['response']['groups'][0]['items']\n",
    "    \n",
    "nearby_venues = json_normalize(venues) # flatten JSON\n",
    "\n",
    "# filter columns\n",
    "filtered_columns = ['venue.name', 'venue.categories', 'venue.location.lat', 'venue.location.lng']\n",
    "nearby_venues =nearby_venues.loc[:, filtered_columns]\n",
    "\n",
    "# filter the category for each row\n",
    "nearby_venues['venue.categories'] = nearby_venues.apply(get_category_type, axis=1)\n",
    "\n",
    "# clean columns\n",
    "nearby_venues.columns = [col.split(\".\")[-1] for col in nearby_venues.columns]\n",
    "\n",
    "nearby_venues.head(20)"
   ]
  },
  {
   "cell_type": "code",
   "execution_count": null,
   "metadata": {},
   "outputs": [],
   "source": [
    "nearby_venues.shape"
   ]
  },
  {
   "cell_type": "markdown",
   "metadata": {},
   "source": [
    "### Create a nearby venues function for all the Suburbs in Victoria"
   ]
  },
  {
   "cell_type": "code",
   "execution_count": null,
   "metadata": {},
   "outputs": [],
   "source": [
    "def getNearbyVenues(names, latitudes, longitudes, radius=500):\n",
    "    \n",
    "    venues_list=[]\n",
    "    for name, lat, lng in zip(names, latitudes, longitudes):\n",
    "        print(name)\n",
    "            \n",
    "        # create the API request URL\n",
    "        url = 'https://api.foursquare.com/v2/venues/explore?&client_id={}&client_secret={}&v={}&ll={},{}&radius={}&limit={}'.format(\n",
    "            CLIENT_ID, \n",
    "            CLIENT_SECRET, \n",
    "            VERSION, \n",
    "            lat, \n",
    "            lng, \n",
    "            radius, \n",
    "            LIMIT)\n",
    "            \n",
    "        # make the GET request\n",
    "        results = requests.get(url).json()[\"response\"]['groups'][0]['items']\n",
    "        \n",
    "        # return only relevant information for each nearby venue\n",
    "        venues_list.append([(\n",
    "            name, \n",
    "            lat, \n",
    "            lng, \n",
    "            v['venue']['name'], \n",
    "            v['venue']['location']['lat'], \n",
    "            v['venue']['location']['lng'],  \n",
    "            v['venue']['categories'][0]['name']) for v in results])\n",
    "\n",
    "    nearby_venues = pd.DataFrame([item for venue_list in venues_list for item in venue_list])\n",
    "    nearby_venues.columns = ['Suburb', \n",
    "                  'Latitude', \n",
    "                  'Longitude', \n",
    "                  'Venue', \n",
    "                  'Venue Latitude', \n",
    "                  'Venue Longitude', \n",
    "                  'Venue Category']\n",
    "    \n",
    "    return(nearby_venues)"
   ]
  },
  {
   "cell_type": "code",
   "execution_count": null,
   "metadata": {},
   "outputs": [],
   "source": [
    "df_unq_sub_all = df_307CrimeData[['Suburb','Latitude','Longitude']].copy()"
   ]
  },
  {
   "cell_type": "code",
   "execution_count": null,
   "metadata": {},
   "outputs": [],
   "source": [
    "df_unq_sub_all.shape"
   ]
  },
  {
   "cell_type": "code",
   "execution_count": null,
   "metadata": {},
   "outputs": [],
   "source": [
    "df_unq_sub_all.drop_duplicates(inplace = True)\n",
    "df_unq_sub_all.shape"
   ]
  },
  {
   "cell_type": "code",
   "execution_count": null,
   "metadata": {},
   "outputs": [],
   "source": [
    "df_unq_sub_20 = df_unq_sub_all.tail(20).copy()"
   ]
  },
  {
   "cell_type": "code",
   "execution_count": null,
   "metadata": {},
   "outputs": [],
   "source": [
    "df_unq_sub_20.shape"
   ]
  },
  {
   "cell_type": "code",
   "execution_count": null,
   "metadata": {},
   "outputs": [],
   "source": [
    "vic_venues = getNearbyVenues(names=df_unq_sub_20['Suburb'],\n",
    "                                   latitudes=df_unq_sub_20['Latitude'],\n",
    "                                   longitudes=df_unq_sub_20['Longitude']\n",
    "                                  )"
   ]
  },
  {
   "cell_type": "code",
   "execution_count": null,
   "metadata": {},
   "outputs": [],
   "source": [
    "vic_venues.shape"
   ]
  },
  {
   "cell_type": "code",
   "execution_count": null,
   "metadata": {},
   "outputs": [],
   "source": [
    "vic_venues.head(100)"
   ]
  },
  {
   "cell_type": "code",
   "execution_count": null,
   "metadata": {},
   "outputs": [],
   "source": [
    "vic_venues_all = getNearbyVenues(names=df_unq_sub_all['Suburb'],\n",
    "                                   latitudes=df_unq_sub_all['Latitude'],\n",
    "                                   longitudes=df_unq_sub_all['Longitude']\n",
    "                                  )"
   ]
  },
  {
   "cell_type": "code",
   "execution_count": null,
   "metadata": {},
   "outputs": [],
   "source": [
    "vic_venues_all.shape"
   ]
  },
  {
   "cell_type": "code",
   "execution_count": null,
   "metadata": {},
   "outputs": [],
   "source": [
    "vic_venues_all.head()"
   ]
  },
  {
   "cell_type": "markdown",
   "metadata": {},
   "source": [
    "#### As you can see, we have over 2576 restaraunts for 160 suburbs"
   ]
  },
  {
   "cell_type": "code",
   "execution_count": null,
   "metadata": {},
   "outputs": [],
   "source": [
    "df_vic_all = vic_venues_all[['Venue','Latitude','Longitude']].copy()"
   ]
  },
  {
   "cell_type": "code",
   "execution_count": null,
   "metadata": {},
   "outputs": [],
   "source": [
    "df_vic_all.head()"
   ]
  },
  {
   "cell_type": "code",
   "execution_count": null,
   "metadata": {},
   "outputs": [],
   "source": []
  },
  {
   "cell_type": "code",
   "execution_count": null,
   "metadata": {},
   "outputs": [],
   "source": []
  },
  {
   "cell_type": "code",
   "execution_count": null,
   "metadata": {},
   "outputs": [],
   "source": []
  },
  {
   "cell_type": "code",
   "execution_count": null,
   "metadata": {},
   "outputs": [],
   "source": []
  },
  {
   "cell_type": "markdown",
   "metadata": {},
   "source": [
    "Now we have both Crime Data and FourSquare Data - let us start visualising the data we have"
   ]
  },
  {
   "cell_type": "markdown",
   "metadata": {},
   "source": [
    "### Data Visualisation & Exploratory Data Analysis"
   ]
  },
  {
   "cell_type": "markdown",
   "metadata": {},
   "source": [
    "#### Descriptive statistics of Crime Data"
   ]
  },
  {
   "cell_type": "code",
   "execution_count": null,
   "metadata": {},
   "outputs": [],
   "source": [
    "df.describe()"
   ]
  },
  {
   "cell_type": "markdown",
   "metadata": {},
   "source": [
    "### Consolidated Victoria Crime Data"
   ]
  },
  {
   "cell_type": "code",
   "execution_count": null,
   "metadata": {},
   "outputs": [],
   "source": [
    "#Lets create a new crimes data frame to consolidate the numbers of incidenys irrespective of the type of crime\n",
    "# we will still need the actual data set for our future analysis\n",
    "\n",
    "df_viccrime_cons = df_viccrimedata[['Suburb','Incidents','Latitude', 'Longitude']].copy()\n",
    "df_viccrime_cons.head()"
   ]
  },
  {
   "cell_type": "code",
   "execution_count": null,
   "metadata": {},
   "outputs": [],
   "source": [
    "# we do another group by suburbs\n",
    "\n",
    "df_viccrime_cons = df_viccrime_cons.groupby(['Suburb','Latitude', 'Longitude'])['Incidents'].sum().reset_index()\n",
    "df_viccrime_cons.head()"
   ]
  },
  {
   "cell_type": "markdown",
   "metadata": {},
   "source": [
    "### Analyse Suburb and Crime Data"
   ]
  },
  {
   "cell_type": "markdown",
   "metadata": {},
   "source": [
    "#### Sort crimes in ascending and descending order to find the highest crime zone"
   ]
  },
  {
   "cell_type": "code",
   "execution_count": null,
   "metadata": {},
   "outputs": [],
   "source": [
    "df_viccrime_bad = df_307CrimeData.drop([\"Latitude\", \"Longitude\"], axis=1)\n",
    "df_viccrime_gud = df_307CrimeData.drop([\"Latitude\", \"Longitude\"], axis=1)"
   ]
  },
  {
   "cell_type": "code",
   "execution_count": null,
   "metadata": {},
   "outputs": [],
   "source": [
    "#now group by suburb and incidents\n",
    "\n",
    "df_viccrime_bad = df_viccrime_bad.groupby(['Suburb'])['Incidents'].sum().reset_index()\n",
    "df_viccrime_gud = df_viccrime_gud.groupby(['Suburb'])['Incidents'].sum().reset_index()"
   ]
  },
  {
   "cell_type": "code",
   "execution_count": null,
   "metadata": {},
   "outputs": [],
   "source": [
    "#now sort this data\n",
    "\n",
    "df_viccrime_bad = df_viccrime_bad.sort_values(['Incidents'], ascending = False, axis = 0)\n",
    "df_viccrime_gud = df_viccrime_gud.sort_values(['Incidents'], ascending = True, axis = 0)\n"
   ]
  },
  {
   "cell_type": "code",
   "execution_count": null,
   "metadata": {},
   "outputs": [],
   "source": [
    "#### Top 10 Suburbs with Highesh Crime Rating\n",
    "df_viccrime_bad.head(10)"
   ]
  },
  {
   "cell_type": "code",
   "execution_count": null,
   "metadata": {},
   "outputs": [],
   "source": [
    "#### Top 10 Suburbs with Lowest Crime Rating\n",
    "df_viccrime_gud.head(10)"
   ]
  },
  {
   "cell_type": "markdown",
   "metadata": {},
   "source": [
    "### Visualise the suburbs with the highest/lowest number of crimes"
   ]
  },
  {
   "cell_type": "code",
   "execution_count": null,
   "metadata": {},
   "outputs": [],
   "source": [
    "df_4plot1 = df_viccrime_bad[['Suburb','Incidents']].head(30)\n",
    "\n",
    "df_4plot1.set_index('Suburb',inplace = True)\n",
    "\n",
    "ax = df_4plot1.plot(kind='bar', figsize=(20, 6), rot=0)\n",
    "\n",
    "ax.set_ylabel('Number of Crimes') # add to x-label to the plot\n",
    "ax.set_xlabel('Suburb') # add y-label to the plot\n",
    "ax.set_title('Vic suburbs with the Highest no. of crime') # add title to the plot\n",
    "\n",
    "# Creating a function to display the percentage.\n",
    "\n",
    "for p in ax.patches:\n",
    "    ax.annotate(np.round(p.get_height(),decimals=2), \n",
    "                (p.get_x()+p.get_width()/2., p.get_height()), \n",
    "                ha='center', \n",
    "                va='center', \n",
    "                xytext=(0, 10), \n",
    "                textcoords='offset points',\n",
    "                fontsize = 10\n",
    "               )\n",
    "\n",
    "plt.xticks(rotation=45)\n",
    "plt.show()"
   ]
  },
  {
   "cell_type": "code",
   "execution_count": null,
   "metadata": {},
   "outputs": [],
   "source": [
    "df_4plot1 = df_viccrime_gud[['Suburb','Incidents']].head(30)\n",
    "\n",
    "df_4plot1.set_index('Suburb',inplace = True)\n",
    "\n",
    "ax = df_4plot1.plot(kind='bar', figsize=(30, 6), rot=0)\n",
    "\n",
    "ax.set_ylabel('Number of Crimes') # add to x-label to the plot\n",
    "ax.set_xlabel('Suburb') # add y-label to the plot\n",
    "ax.set_title('Vic suburbs with the Highest no. of crime') # add title to the plot\n",
    "\n",
    "# Creating a function to display the percentage.\n",
    "\n",
    "for p in ax.patches:\n",
    "    ax.annotate(np.round(p.get_height(),decimals=2), \n",
    "                (p.get_x()+p.get_width()/2., p.get_height()), \n",
    "                ha='center', \n",
    "                va='center', \n",
    "                xytext=(0, 10), \n",
    "                textcoords='offset points',\n",
    "                fontsize = 10\n",
    "               )\n",
    "\n",
    "plt.xticks(rotation=45)\n",
    "plt.show()"
   ]
  },
  {
   "cell_type": "markdown",
   "metadata": {},
   "source": [
    "The data visualised enables us to understand which suburb one would like to live in. Knowing the suburbs with the highest crimes, and lowest crimes, a new family would be able to choose something appropriate for living in"
   ]
  },
  {
   "cell_type": "markdown",
   "metadata": {},
   "source": [
    "### Offence types and categories for greater understanding "
   ]
  },
  {
   "cell_type": "code",
   "execution_count": null,
   "metadata": {},
   "outputs": [],
   "source": [
    "df.Offence.nunique()"
   ]
  },
  {
   "cell_type": "code",
   "execution_count": null,
   "metadata": {},
   "outputs": [],
   "source": [
    "# What Crimes are the 10 most commonly occuring ones \n",
    "df_top10 = df[['Offence', 'Incidents']].groupby(\n",
    "    ['Offence'], as_index=False).count().sort_values(\n",
    "    'Incidents', ascending=False).head(10)"
   ]
  },
  {
   "cell_type": "code",
   "execution_count": null,
   "metadata": {},
   "outputs": [],
   "source": [
    "# What Crimes are the 3 most commonly occuring ones \n",
    "df[['Offence', 'Incidents']].groupby(\n",
    "    ['Offence'], as_index=False).count().sort_values(\n",
    "    'Incidents', ascending=False).head(3)"
   ]
  },
  {
   "cell_type": "code",
   "execution_count": null,
   "metadata": {},
   "outputs": [],
   "source": [
    "df_top10"
   ]
  },
  {
   "cell_type": "markdown",
   "metadata": {},
   "source": [
    "#### In order to get a better understanding of the top crimes lets first create smaller dataframe the only contains these top crimes. Next we'll visualise these crimes"
   ]
  },
  {
   "cell_type": "code",
   "execution_count": null,
   "metadata": {},
   "outputs": [],
   "source": [
    "df_4plot1 = df_top10[['Offence','Incidents']]\n",
    "\n",
    "df_4plot1.set_index('Offence',inplace = True)\n",
    "\n",
    "ax = df_4plot1.plot(kind='bar', figsize=(15, 6), rot=0)\n",
    "\n",
    "ax.set_ylabel('Number of Incidents') # add to x-label to the plot\n",
    "ax.set_xlabel('Type of Crime') # add y-label to the plot\n",
    "ax.set_title('Top 10 Crimes in Victoria', loc='left', fontsize=18) # add title to the plot\n",
    "\n",
    "# Creating a function to display the percentage.\n",
    "\n",
    "for p in ax.patches:\n",
    "    ax.annotate(np.round(p.get_height(),decimals=2), \n",
    "                (p.get_x()+p.get_width()/2., p.get_height()), \n",
    "                ha='center', \n",
    "                va='center', \n",
    "                xytext=(0, 10), \n",
    "                textcoords='offset points',\n",
    "                fontsize = 10\n",
    "               )\n",
    "\n",
    "plt.ylim(bottom=0)\n",
    "plt.xticks(rotation=90)\n",
    "plt.show()"
   ]
  },
  {
   "cell_type": "markdown",
   "metadata": {},
   "source": [
    "### Reading from some off these suburbs, they are really far away from Melbourne Suburb. Now is probably the time for us to integrate this data with folium maps to see what is where"
   ]
  },
  {
   "cell_type": "markdown",
   "metadata": {},
   "source": [
    "#### Presenting Melbourne on a MAP"
   ]
  },
  {
   "cell_type": "code",
   "execution_count": null,
   "metadata": {},
   "outputs": [],
   "source": [
    "# create map and display it\n",
    "VIC_map = folium.Map(location=[-37.8142176, 144.9631608], zoom_start=13)\n",
    "#-37.8142176, 144.9631608\n",
    "\n",
    "# display the map of Melbourne VIc\n",
    "VIC_map"
   ]
  },
  {
   "cell_type": "markdown",
   "metadata": {},
   "source": [
    "### Create a folium map with a different colour per crime"
   ]
  },
  {
   "cell_type": "markdown",
   "metadata": {},
   "source": [
    "#### Colour each of the top 10 crimes with different colour and plot on the map"
   ]
  },
  {
   "cell_type": "code",
   "execution_count": null,
   "metadata": {},
   "outputs": [],
   "source": [
    "# Create a list of the 3 most commonly occuring crimes\n",
    "top_ten_crimes = df[['Offence', 'Incidents']].groupby(\n",
    "    ['Offence']).count().sort_values('Incidents', ascending=False)[:10].axes[0].tolist()\n",
    "\n",
    "# Create a list of the 3 most commonly occuring crimes\n",
    "top_three_crimes = df[['Offence', 'Incidents']].groupby(\n",
    "    ['Offence']).count().sort_values('Incidents', ascending=False)[:3].axes[0].tolist()"
   ]
  },
  {
   "cell_type": "code",
   "execution_count": null,
   "metadata": {},
   "outputs": [],
   "source": [
    "# Create a list of 10 colours. \n",
    "# We have  list of the top 10 crimes from earlier\n",
    "colors10 = [\n",
    "    'red',\n",
    "    'blue',\n",
    "    'gray',\n",
    "    'orange',\n",
    "    'beige',\n",
    "    'green',\n",
    "    'purple',\n",
    "    'pink',\n",
    "    'cadetblue',\n",
    "    'black'\n",
    "]\n",
    "\n",
    "# Create a dictionary of colours to map to the crimes\n",
    "dict_colours10 = dict(zip(top_ten_crimes, colors10))\n",
    "\n",
    "# Create a list of 3 colours. \n",
    "# We have  list of the top 3 crimes from earlier\n",
    "colors3 = [\n",
    "    'red',\n",
    "    'blue',\n",
    "    'green'\n",
    "]\n",
    "\n",
    "# Create a dictionary of colours to map to the crimes\n",
    "dict_colours3 = dict(zip(top_three_crimes, colors3))"
   ]
  },
  {
   "cell_type": "code",
   "execution_count": null,
   "metadata": {},
   "outputs": [],
   "source": [
    "\n",
    "# Create a new data frame with just the top 10 crimes\n",
    "df_top10_crimes = df[df['Offence'].isin(top_ten_crimes)].copy()\n",
    "\n",
    "# Create a new data frame with just the top 3 crimes\n",
    "df_top3_crimes = df[df['Offence'].isin(top_three_crimes)].copy()"
   ]
  },
  {
   "cell_type": "code",
   "execution_count": null,
   "metadata": {},
   "outputs": [],
   "source": [
    "#create a copy of the data for 307 suburbs, lets us not map it for all of victoria\n",
    "df_307Color = df_307CrimeData.copy()"
   ]
  },
  {
   "cell_type": "code",
   "execution_count": null,
   "metadata": {},
   "outputs": [],
   "source": [
    "# Add the colours colums to the df_top_crimes DataFrame\n",
    "df_307Color['colour'] = df_top10_crimes.Offence.map(dict_colours10)"
   ]
  },
  {
   "cell_type": "code",
   "execution_count": null,
   "metadata": {},
   "outputs": [],
   "source": [
    "#create a copy of the data for all suburbs, lets us map it for all of victoria\n",
    "df_Color = df_viccrimedata\n",
    "\n",
    "# Add the colours colums to the df_top_crimes DataFrame\n",
    "df_Color['colour'] = df_top10_crimes.Offence.map(dict_colours10)"
   ]
  },
  {
   "cell_type": "code",
   "execution_count": null,
   "metadata": {},
   "outputs": [],
   "source": [
    "df_307Color.head()"
   ]
  },
  {
   "cell_type": "code",
   "execution_count": null,
   "metadata": {},
   "outputs": [],
   "source": [
    "df_Color.head()"
   ]
  },
  {
   "cell_type": "markdown",
   "metadata": {},
   "source": [
    "### Marker Map of the Top 10 Crimes in Top 307 Victorian Suburbs"
   ]
  },
  {
   "cell_type": "code",
   "execution_count": null,
   "metadata": {
    "scrolled": true
   },
   "outputs": [],
   "source": [
    "# create map and display it\n",
    "VIC_map = folium.Map(location=[-37.8142176, 144.9631608], zoom_start=8)\n",
    "#-37.8142176, 144.9631608\n",
    "\n",
    "# display the map of Melbourne VIc\n",
    "VIC_map\n",
    "\n",
    "# Instantiate a feature group for the incidents in the dataframe\n",
    "incidents = folium.map.FeatureGroup()\n",
    "\n",
    "# loop through the August crimes and add each to the incidents feature group\n",
    "for lat, lng, col in zip(df_307Color.Latitude, \n",
    "                         df_307Color.Longitude, \n",
    "                         df_307Color.colour):\n",
    "    incidents.add_child(\n",
    "        folium.CircleMarker(\n",
    "            [lat, lng],\n",
    "            radius=1, # define how big you want the circle markers to be\n",
    "            color=col,\n",
    "            fill=True,\n",
    "            fill_color=col,\n",
    "            fill_opacity=0.6\n",
    "        )\n",
    "    )\n",
    "\n",
    "# add incidents to map\n",
    "VIC_map.add_child(incidents)"
   ]
  },
  {
   "cell_type": "markdown",
   "metadata": {},
   "source": [
    "### Lets use the same data to a cluster map"
   ]
  },
  {
   "cell_type": "code",
   "execution_count": null,
   "metadata": {},
   "outputs": [],
   "source": [
    "mc = MarkerCluster()\n",
    "\n",
    "# Define the world map centered around Melbourne with a higher zoom level\n",
    "VIC_clust = folium.Map(location=[-37.8142176, 144.9631608], zoom_start=11)\n",
    "\n",
    "# display world map\n",
    "VIC_clust\n",
    "\n",
    "#creating a Marker for each point in df_sample. Each point will get a popup with their zip\n",
    "for row in df_307Color.itertuples():\n",
    "    mc.add_child(folium.Marker(\n",
    "        location=[row.Latitude,  row.Longitude],\n",
    "                 popup=row.Offence))\n",
    " \n",
    "VIC_clust.add_child(mc)\n",
    "VIC_clust"
   ]
  },
  {
   "cell_type": "markdown",
   "metadata": {},
   "source": [
    "### This is a fantastic view of all the crimes in and around Melbourne. And we will finally create a heat map"
   ]
  },
  {
   "cell_type": "code",
   "execution_count": null,
   "metadata": {},
   "outputs": [],
   "source": [
    "VIC_heat = folium.Map(location=[-37.8142176, 144.9631608], zoom_start=11)\n",
    "\n",
    "# List comprehension to make out list of lists\n",
    "heat_data = [[row['Latitude'], \n",
    "              row['Longitude']] for index, row in df_307Color.iterrows()]\n",
    "\n",
    "# Plot it on the map\n",
    "HeatMap(heat_data,\n",
    "        min_opacity=0.5,\n",
    "        max_zoom=18, \n",
    "        max_val=1.0, \n",
    "        radius=15,\n",
    "        blur=20,\n",
    "        gradient=None,\n",
    "        overlay=True).add_to(VIC_heat)\n",
    "\n",
    "# Display the map\n",
    "VIC_heat"
   ]
  },
  {
   "cell_type": "markdown",
   "metadata": {},
   "source": [
    "### Marker Map of the Top 10 Crimes in all of Victorian Suburbs"
   ]
  },
  {
   "cell_type": "code",
   "execution_count": null,
   "metadata": {},
   "outputs": [],
   "source": [
    "# create map and display it\n",
    "VIC_map = folium.Map(location=[-37.8142176, 144.9631608], zoom_start=10)\n",
    "#-37.8142176, 144.9631608\n",
    "\n",
    "# display the map of Melbourne VIc\n",
    "VIC_map\n",
    "\n",
    "# Instantiate a feature group for the incidents in the dataframe\n",
    "incidents = folium.map.FeatureGroup()\n",
    "\n",
    "# loop through the August crimes and add each to the incidents feature group\n",
    "for lat, lng, col in zip(df_Color.Latitude, \n",
    "                         df_Color.Longitude, \n",
    "                         df_Color.colour):\n",
    "    incidents.add_child(\n",
    "        folium.CircleMarker(\n",
    "            [lat, lng],\n",
    "            radius=1, # define how big you want the circle markers to be\n",
    "            color=col,\n",
    "            fill=True,\n",
    "            fill_color=col,\n",
    "            fill_opacity=0.6\n",
    "        )\n",
    "    )\n",
    "\n",
    "# add incidents to map\n",
    "VIC_map.add_child(incidents)"
   ]
  },
  {
   "cell_type": "code",
   "execution_count": null,
   "metadata": {},
   "outputs": [],
   "source": [
    "mc = MarkerCluster()\n",
    "\n",
    "# Define the world map centered around Melbourne with a higher zoom level\n",
    "VIC_clust = folium.Map(location=[-37.8142176, 144.9631608], zoom_start=10)\n",
    "\n",
    "# display world map\n",
    "VIC_clust\n",
    "\n",
    "#creating a Marker for each point in df_sample. Each point will get a popup with their zip\n",
    "for row in df_Color.itertuples():\n",
    "    mc.add_child(folium.Marker(\n",
    "        location=[row.Latitude,  row.Longitude],\n",
    "                 popup=row.Offence))\n",
    " \n",
    "VIC_clust.add_child(mc)\n",
    "VIC_clust"
   ]
  },
  {
   "cell_type": "code",
   "execution_count": null,
   "metadata": {},
   "outputs": [],
   "source": [
    "VIC_heat = folium.Map(location=[-37.8142176, 144.9631608], zoom_start=9)\n",
    "\n",
    "# List comprehension to make out list of lists\n",
    "heat_data = [[row['Latitude'], \n",
    "              row['Longitude']] for index, row in df_Color.iterrows()]\n",
    "\n",
    "# Plot it on the map\n",
    "HeatMap(heat_data,\n",
    "        min_opacity=0.5,\n",
    "        max_zoom=18, \n",
    "        max_val=1.0, \n",
    "        radius=15,\n",
    "        blur=20,\n",
    "        gradient=None,\n",
    "        overlay=True).add_to(VIC_heat)\n",
    "\n",
    "# Display the map\n",
    "VIC_heat"
   ]
  },
  {
   "cell_type": "markdown",
   "metadata": {},
   "source": [
    "### Foursquare Data and Crime Data"
   ]
  },
  {
   "cell_type": "markdown",
   "metadata": {},
   "source": [
    "#### Now lets merge the hotel information from Foursquare with that of Crime Data heatmap for further Analysis"
   ]
  },
  {
   "cell_type": "code",
   "execution_count": null,
   "metadata": {},
   "outputs": [],
   "source": [
    "#Let collect crime data for the 307 suburbs\n",
    "df_crime_all = df_307CrimeData[['Latitude', 'Longitude', 'Incidents','Suburb']].copy()\n",
    "df_crime_all.head()"
   ]
  },
  {
   "cell_type": "code",
   "execution_count": null,
   "metadata": {},
   "outputs": [],
   "source": [
    "#lets group the incident count per location\n",
    "df_crime_all = df_crime_all.groupby(['Latitude','Longitude', 'Suburb'])['Incidents'].sum().reset_index()\n",
    "df_crime_all.shape"
   ]
  },
  {
   "cell_type": "code",
   "execution_count": null,
   "metadata": {},
   "outputs": [],
   "source": [
    "df_crime_all.head()"
   ]
  },
  {
   "cell_type": "code",
   "execution_count": null,
   "metadata": {},
   "outputs": [],
   "source": [
    "df_crime_all['InsSub'] = df_crime_all['Suburb'] + '-' + df_crime_all['Incidents'].astype(str)\n",
    "df_crime_all.head()"
   ]
  },
  {
   "cell_type": "code",
   "execution_count": null,
   "metadata": {},
   "outputs": [],
   "source": [
    "df_crime_all.rename(columns={\"Latitude\": \"latitude\", \"Longitude\": \"longitude\"}, inplace=True)"
   ]
  },
  {
   "cell_type": "code",
   "execution_count": null,
   "metadata": {},
   "outputs": [],
   "source": [
    "df_crime_all.head()"
   ]
  },
  {
   "cell_type": "code",
   "execution_count": null,
   "metadata": {},
   "outputs": [],
   "source": [
    "df_vic_all.rename(columns={\"Venue\": \"name\", \"Latitude\": \"latitude\",\"Longitude\": \"longitude\"}, inplace=True)\n",
    "df_vic_all.head()"
   ]
  },
  {
   "cell_type": "code",
   "execution_count": null,
   "metadata": {
    "scrolled": true
   },
   "outputs": [],
   "source": [
    "# Create the Folium Map\n",
    "vic_heatmat = folium.Map(location=[-37.8142176, 144.9631608], zoom_start=16) \n",
    "\n",
    "# List comprehension to make out list of lists of Crime Loatitude and Longitude\n",
    "heat_data = [[row['latitude'], \n",
    "              row['longitude']] for index, row in df_crime_all.iterrows()]\n",
    "\n",
    "# Plot the crimes on the map\n",
    "HeatMap(heat_data,\n",
    "        min_opacity=0.5,\n",
    "        max_zoom=18, \n",
    "        max_val=1.0, \n",
    "        radius=20,\n",
    "        blur=30,\n",
    "        gradient=None,\n",
    "        overlay=True).add_to(vic_heatmat)\n",
    "\n",
    "# Add the Venue to the Map\n",
    "folium.Marker(\n",
    "    location=[-37.8142176, 144.9631608],\n",
    "    popup='Melbourne',\n",
    "    icon=folium.Icon(color='red', icon='thumbs-up')\n",
    ").add_to(vic_heatmat)\n",
    "\n",
    "# Add the Restaurants to the map\n",
    "for row in df_vic_all.itertuples():\n",
    "    popup_text = '<h4>' + row.name + '</h4>'\n",
    "    popup = folium.Popup(popup_text)\n",
    "    folium.Marker([row.latitude, row.longitude], \n",
    "                  popup=popup,\n",
    "                  icon=folium.Icon(color='blue', icon='info-sign')\n",
    "                 ).add_to(vic_heatmat)\n",
    "\n",
    "# Add the incidents to the map\n",
    "for row in df_crime_all.itertuples():\n",
    "    popup_text = '<h4>' + str(row.InsSub) + '</h4>'\n",
    "    popup = folium.Popup(popup_text)\n",
    "    folium.Marker([row.latitude, row.longitude], \n",
    "                  popup=popup,\n",
    "                  icon=folium.Icon(color='red', icon='info-sign')\n",
    "                 ).add_to(vic_heatmat)\n",
    "\n",
    "# Display the map\n",
    "vic_heatmat"
   ]
  },
  {
   "cell_type": "markdown",
   "metadata": {},
   "source": [
    "#### This will enable people to make the right decision when trying to move in."
   ]
  },
  {
   "cell_type": "markdown",
   "metadata": {},
   "source": [
    "## Inferential Statistical Testing"
   ]
  },
  {
   "cell_type": "markdown",
   "metadata": {},
   "source": [
    "Inferential statistics allows us to provide insight on a given topic. There are many types of statistical tests that allows one to make inferences. Some of the common statistical tests are:\n",
    "\n",
    "Correlations Chi-square test Independent t-test (a.k.a Student’s t-test) Paired sample t-test Welch’s t-test Wilcoxon signed-rank test Linear regression Logistic regression One-way Analysis of Variance (ANOVA) Two-way/N-way ANOVA In this section we will investigate if there are any obvious inferential statisticical methods that can help us when modelling the data."
   ]
  },
  {
   "cell_type": "code",
   "execution_count": null,
   "metadata": {},
   "outputs": [],
   "source": [
    "#df_restyy1"
   ]
  },
  {
   "cell_type": "code",
   "execution_count": null,
   "metadata": {},
   "outputs": [],
   "source": [
    "df_307CrimeData.head()"
   ]
  },
  {
   "cell_type": "code",
   "execution_count": null,
   "metadata": {},
   "outputs": [],
   "source": [
    "df_crimeward_crosstab = pd.crosstab(df_307CrimeData.Offence, df_307CrimeData.Suburb)\n",
    "df_crimeward_crosstab.head()"
   ]
  },
  {
   "cell_type": "code",
   "execution_count": null,
   "metadata": {},
   "outputs": [],
   "source": [
    "df_top_venues.head()"
   ]
  },
  {
   "cell_type": "code",
   "execution_count": null,
   "metadata": {},
   "outputs": [],
   "source": [
    "df_top_venues.plot.scatter('score', 'latitude', figsize=(10,6))\n",
    "\n",
    "plt.xlabel('Score')\n",
    "plt.ylabel('Latitude')\n",
    "plt.title('Scatter Plot of Top Venues Latitude and Score', loc='left', fontsize=18)"
   ]
  },
  {
   "cell_type": "code",
   "execution_count": null,
   "metadata": {},
   "outputs": [],
   "source": [
    "df_top_venues.plot.scatter('score', 'longitude', figsize=(10,6))\n",
    "\n",
    "plt.xlabel('Score')\n",
    "plt.ylabel('Longitude')\n",
    "plt.title('Scatter Plot of Top Venues Longitude and Score', loc='left', fontsize=18)"
   ]
  },
  {
   "cell_type": "markdown",
   "metadata": {},
   "source": [
    "## Model Creation and Evaluation"
   ]
  },
  {
   "cell_type": "markdown",
   "metadata": {},
   "source": [
    "In this section multiple models will be created and evaluated before a final model is chosen and evaluated"
   ]
  },
  {
   "cell_type": "code",
   "execution_count": null,
   "metadata": {},
   "outputs": [],
   "source": [
    "# All the SciKit Learn Libraries Required\n",
    "from sklearn import preprocessing\n",
    "from sklearn.model_selection import train_test_split\n",
    "from sklearn.neighbors import KNeighborsClassifier\n",
    "from sklearn.naive_bayes import BernoulliNB\n",
    "from sklearn.ensemble import RandomForestClassifier\n",
    "from sklearn import metrics\n",
    "from sklearn.model_selection import KFold, cross_val_score\n",
    "\n",
    "# Decision Tree\n",
    "from datetime import datetime\n",
    "from sklearn.tree import DecisionTreeClassifier\n",
    "\n",
    "# Small Function to do X-Fold Cross Validation\n",
    "def cross_validate(model, n_splits = 10):\n",
    "    \n",
    "    k_fold = KFold(n_splits = n_splits)\n",
    "    scores = [model.fit(X[train], y[train]).score(X[test], y[test]) for train, test in k_fold.split(X)]\n",
    "    \n",
    "    scores = np.percentile(scores, [40, 50, 60])\n",
    "    return scores"
   ]
  },
  {
   "cell_type": "markdown",
   "metadata": {},
   "source": [
    "### Data Preparation for Modelling"
   ]
  },
  {
   "cell_type": "markdown",
   "metadata": {},
   "source": [
    "Before we start modelling we need to prepare the data frame to include only mumerical data and by removing unneeded columns."
   ]
  },
  {
   "cell_type": "markdown",
   "metadata": {},
   "source": [
    "### Check how many venues were returned for each suburb"
   ]
  },
  {
   "cell_type": "code",
   "execution_count": null,
   "metadata": {},
   "outputs": [],
   "source": [
    "vic_venues_all.head()"
   ]
  },
  {
   "cell_type": "code",
   "execution_count": null,
   "metadata": {},
   "outputs": [],
   "source": [
    "vic_venues_all.groupby('Suburb').count()"
   ]
  },
  {
   "cell_type": "markdown",
   "metadata": {},
   "source": [
    "### Calculate how many unique venue categories there are"
   ]
  },
  {
   "cell_type": "code",
   "execution_count": null,
   "metadata": {},
   "outputs": [],
   "source": [
    "# Calculate how many unique categories there are.\n",
    "print('There are {} unique venue categories.'.format(len(vic_venues_all['Venue Category'].unique())))"
   ]
  },
  {
   "cell_type": "markdown",
   "metadata": {},
   "source": [
    "### Analyse each suburb"
   ]
  },
  {
   "cell_type": "code",
   "execution_count": null,
   "metadata": {},
   "outputs": [],
   "source": [
    "# Analyze each of the Suburb from the results\n",
    "\n",
    "# one hot encoding\n",
    "vic_onehot = pd.get_dummies(vic_venues_all[['Venue Category']], prefix=\"\", prefix_sep=\"\")\n",
    "\n",
    "# add neighborhood column back to dataframe\n",
    "vic_onehot['Suburb'] = vic_venues_all['Suburb'] \n",
    "\n",
    "# move neighborhood column to the first column\n",
    "fixed_columns = [vic_onehot.columns[-1]] + list(vic_onehot.columns[:-1])\n",
    "vic_onehot = vic_onehot[fixed_columns]\n",
    "\n",
    "vic_onehot"
   ]
  },
  {
   "cell_type": "code",
   "execution_count": null,
   "metadata": {},
   "outputs": [],
   "source": [
    "vic_onehot.shape"
   ]
  },
  {
   "cell_type": "markdown",
   "metadata": {},
   "source": [
    "### Group rows by Suburb and take the mean of the frequency of occurrence of each category"
   ]
  },
  {
   "cell_type": "code",
   "execution_count": null,
   "metadata": {},
   "outputs": [],
   "source": [
    "vic_grouped = vic_onehot.groupby('Suburb').mean().reset_index()\n",
    "vic_grouped"
   ]
  },
  {
   "cell_type": "code",
   "execution_count": null,
   "metadata": {},
   "outputs": [],
   "source": [
    "vic_grouped.shape"
   ]
  },
  {
   "cell_type": "markdown",
   "metadata": {},
   "source": [
    "### Print each suburb with it's top 10 most common venues"
   ]
  },
  {
   "cell_type": "code",
   "execution_count": null,
   "metadata": {},
   "outputs": [],
   "source": [
    "# Each  Suburb with top 10 most common venues\n",
    "\n",
    "num_top_venues = 10\n",
    "\n",
    "for hood in vic_grouped['Suburb']:\n",
    "    print(\"----\"+hood+\"----\")\n",
    "    temp = vic_grouped[vic_grouped['Suburb'] == hood].T.reset_index()\n",
    "    temp.columns = ['venue','freq']\n",
    "    temp = temp.iloc[1:]\n",
    "    temp['freq'] = temp['freq'].astype(float)\n",
    "    temp = temp.round({'freq': 2})\n",
    "    print(temp.sort_values('freq', ascending=False).reset_index(drop=True).head(num_top_venues))\n",
    "    print('\\n')"
   ]
  },
  {
   "cell_type": "markdown",
   "metadata": {},
   "source": [
    "### Put that data into a pandas dataframe and sort the venues in descending order"
   ]
  },
  {
   "cell_type": "code",
   "execution_count": null,
   "metadata": {},
   "outputs": [],
   "source": [
    "# First sort the venues in descending order.\n",
    "\n",
    "def return_most_common_venues(row, num_top_venues):\n",
    "    row_categories = row.iloc[1:]\n",
    "    row_categories_sorted = row_categories.sort_values(ascending=False)\n",
    "    \n",
    "    return row_categories_sorted.index.values[0:num_top_venues]"
   ]
  },
  {
   "cell_type": "markdown",
   "metadata": {},
   "source": [
    "### The top 10 venue categories for each Suburb"
   ]
  },
  {
   "cell_type": "markdown",
   "metadata": {},
   "source": [
    "This is a very useful results table that can provide at a information for all of the suburbs withing Victoria in a glance."
   ]
  },
  {
   "cell_type": "code",
   "execution_count": null,
   "metadata": {},
   "outputs": [],
   "source": [
    "# create the new dataframe and display the top 10 venues for each neighborhood\n",
    "\n",
    "num_top_venues = 10\n",
    "indicators = ['st', 'nd', 'rd']\n",
    "\n",
    "# create columns according to number of top venues\n",
    "columns = ['Suburb']\n",
    "for ind in np.arange(num_top_venues):\n",
    "    try:\n",
    "        columns.append('{}{} Most Common Venue'.format(ind+1, indicators[ind]))\n",
    "    except:\n",
    "        columns.append('{}th Most Common Venue'.format(ind+1))\n",
    "        \n",
    "# create a new dataframe\n",
    "vic_venues_sorted = pd.DataFrame(columns=columns)\n",
    "vic_venues_sorted['Suburb'] = vic_grouped['Suburb']\n",
    "\n",
    "for ind in np.arange(vic_grouped.shape[0]):\n",
    "    vic_venues_sorted.iloc[ind, 1:] = return_most_common_venues(vic_grouped.iloc[ind, :], num_top_venues)\n",
    "\n",
    "vic_venues_sorted.head(20)"
   ]
  },
  {
   "cell_type": "code",
   "execution_count": null,
   "metadata": {},
   "outputs": [],
   "source": [
    "# The shape of the sorted data is\n",
    "vic_venues_sorted.shape"
   ]
  },
  {
   "cell_type": "markdown",
   "metadata": {},
   "source": [
    "## Clustering similar Suburbs together using k - means clustering"
   ]
  },
  {
   "cell_type": "code",
   "execution_count": null,
   "metadata": {},
   "outputs": [],
   "source": [
    "# import k-means from clustering stage\n",
    "from sklearn.cluster import KMeans\n",
    "\n",
    "# set number of clusters\n",
    "kclusters = 5\n",
    "\n",
    "kut_grouped_clustering = vic_grouped.drop('Suburb', 1)\n",
    "\n",
    "# run k-means clustering\n",
    "kmeans = KMeans(n_clusters=kclusters, random_state=0).fit(kut_grouped_clustering)\n",
    "\n",
    "# check cluster labels generated for each row in the dataframe\n",
    "kmeans.labels_[0:10]"
   ]
  },
  {
   "cell_type": "code",
   "execution_count": null,
   "metadata": {},
   "outputs": [],
   "source": [
    "\n",
    "# add clustering labels\n",
    "vic_venues_sorted.insert(0, 'Cluster Labels', kmeans.labels_)\n",
    "\n",
    "viv_merged = vic_venues_all\n",
    "\n",
    "# merge vic groped with vic data to add latitude/longitude for each suburb\n",
    "viv_merged = viv_merged.join(vic_venues_sorted.set_index('Suburb'), on='Suburb')\n",
    "\n",
    "viv_merged.head() # check the last columns!"
   ]
  },
  {
   "cell_type": "code",
   "execution_count": null,
   "metadata": {},
   "outputs": [],
   "source": [
    "viv_merged.info()"
   ]
  },
  {
   "cell_type": "code",
   "execution_count": null,
   "metadata": {},
   "outputs": [],
   "source": [
    "# Dropping the row with the NaN value \n",
    "viv_merged.dropna(inplace = True)"
   ]
  },
  {
   "cell_type": "code",
   "execution_count": null,
   "metadata": {},
   "outputs": [],
   "source": [
    "viv_merged.shape"
   ]
  },
  {
   "cell_type": "code",
   "execution_count": null,
   "metadata": {},
   "outputs": [],
   "source": [
    "viv_merged['Cluster Labels'] = viv_merged['Cluster Labels'].astype(int)"
   ]
  },
  {
   "cell_type": "code",
   "execution_count": null,
   "metadata": {},
   "outputs": [],
   "source": [
    "viv_merged.info()"
   ]
  },
  {
   "cell_type": "code",
   "execution_count": null,
   "metadata": {},
   "outputs": [],
   "source": [
    "# create map\n",
    "map_clusters = folium.Map(location=['-37.8142176', '144.9631608'], zoom_start=11.5)\n",
    "\n",
    "# set color scheme for the clusters\n",
    "x = np.arange(kclusters)\n",
    "ys = [i + x + (i*x)**2 for i in range(kclusters)]\n",
    "colors_array = cm.rainbow(np.linspace(0, 1, len(ys)))\n",
    "rainbow = [colors.rgb2hex(i) for i in colors_array]\n",
    "\n",
    "# add markers to the map\n",
    "markers_colors = []\n",
    "for lat, lon, poi, cluster in zip(viv_merged['Latitude'], viv_merged['Longitude'], viv_merged['Suburb'], viv_merged['Cluster Labels']):\n",
    "    label = folium.Popup(str(poi) + ' Cluster ' + str(cluster), parse_html=True)\n",
    "    folium.CircleMarker(\n",
    "        [lat, lon],\n",
    "        radius=8,\n",
    "        popup=label,\n",
    "        color=rainbow[cluster-1],\n",
    "        fill=True,\n",
    "        fill_color=rainbow[cluster-1],\n",
    "        fill_opacity=0.5).add_to(map_clusters)\n",
    "       \n",
    "map_clusters"
   ]
  },
  {
   "cell_type": "markdown",
   "metadata": {},
   "source": [
    "\n",
    "Each cluster is color coded for the ease of presentation, we can see that majority of the suburbs falls in the red cluster which is the first cluster. Let us now Analyse each of the clusters to identify the characteristics of each cluster and the suburb in them."
   ]
  },
  {
   "cell_type": "markdown",
   "metadata": {},
   "source": [
    "#### Examine the first cluster"
   ]
  },
  {
   "cell_type": "code",
   "execution_count": null,
   "metadata": {},
   "outputs": [],
   "source": [
    "viv_merged[viv_merged['Cluster Labels'] == 0]"
   ]
  },
  {
   "cell_type": "markdown",
   "metadata": {},
   "source": [
    "The first cluster has the maximum number of records and containts venues category related to restaurants. This is the biggest of clusters"
   ]
  },
  {
   "cell_type": "markdown",
   "metadata": {},
   "source": [
    "#### Examine the second cluster"
   ]
  },
  {
   "cell_type": "code",
   "execution_count": null,
   "metadata": {},
   "outputs": [],
   "source": [
    "viv_merged[viv_merged['Cluster Labels'] == 1]"
   ]
  },
  {
   "cell_type": "markdown",
   "metadata": {},
   "source": [
    "The second cluster is considerably smaller and primarily focusses on outdoor activity and music"
   ]
  },
  {
   "cell_type": "markdown",
   "metadata": {},
   "source": [
    "#### Examine the third cluster"
   ]
  },
  {
   "cell_type": "code",
   "execution_count": null,
   "metadata": {},
   "outputs": [],
   "source": [
    "viv_merged[viv_merged['Cluster Labels'] == 2]"
   ]
  },
  {
   "cell_type": "markdown",
   "metadata": {},
   "source": [
    "The third cluser focussses on sports and gaming, it is a relatively small cluster will only 4 records"
   ]
  },
  {
   "cell_type": "markdown",
   "metadata": {},
   "source": [
    "#### Examine the fourth cluster"
   ]
  },
  {
   "cell_type": "code",
   "execution_count": null,
   "metadata": {},
   "outputs": [],
   "source": [
    "viv_merged[viv_merged['Cluster Labels'] == 3]"
   ]
  },
  {
   "cell_type": "markdown",
   "metadata": {},
   "source": [
    "The fourth cluster focusses on furniture stores, golf coures, women's store, sports store and bar."
   ]
  },
  {
   "cell_type": "markdown",
   "metadata": {},
   "source": [
    "#### Examine the fifth cluster"
   ]
  },
  {
   "cell_type": "code",
   "execution_count": null,
   "metadata": {},
   "outputs": [],
   "source": [
    "viv_merged[viv_merged['Cluster Labels'] == 4]"
   ]
  },
  {
   "cell_type": "markdown",
   "metadata": {},
   "source": [
    "The fith cluster mainly contains areas like parks and activities"
   ]
  },
  {
   "cell_type": "markdown",
   "metadata": {},
   "source": [
    "## Aligning to our target audience"
   ]
  },
  {
   "cell_type": "markdown",
   "metadata": {},
   "source": [
    "Our target audience is young couples, migrants and new families. From the above, let us make an assumption on what our target audience will be looking for when settling down\n",
    "\n",
    "1. Young Couples - Pub, Pizza, Café\n",
    "2. Families - Grocery Store, Pharmacy, Train Station\n",
    "3. Migrants - Train Station, Playground, Bakery\n",
    "\n",
    "Lets start visualising this data"
   ]
  },
  {
   "cell_type": "code",
   "execution_count": null,
   "metadata": {},
   "outputs": [],
   "source": [
    "vic_ven_sort3 = vic_venues_sorted[['Suburb', '1st Most Common Venue', '2nd Most Common Venue', '3rd Most Common Venue']].copy()"
   ]
  },
  {
   "cell_type": "code",
   "execution_count": null,
   "metadata": {},
   "outputs": [],
   "source": [
    "vic_ven_sort3"
   ]
  },
  {
   "cell_type": "code",
   "execution_count": null,
   "metadata": {},
   "outputs": [],
   "source": [
    "# Lets Start with Young Couples, married couples and migrants\n",
    "\n",
    "df_yc1 = pd.DataFrame(vic_ven_sort3.loc[(vic_ven_sort3['1st Most Common Venue'] == 'Pub')])\n",
    "df_yc2 = pd.DataFrame(vic_ven_sort3.loc[(vic_ven_sort3['1st Most Common Venue'] == 'Pizza Place')])\n",
    "df_yc3 = pd.DataFrame(vic_ven_sort3.loc[(vic_ven_sort3['1st Most Common Venue'] == 'Café')])\n",
    "df_yc4 = pd.DataFrame(vic_ven_sort3.loc[(vic_ven_sort3['1st Most Common Venue'] == 'Grocery Store')])\n",
    "df_yc5 = pd.DataFrame(vic_ven_sort3.loc[(vic_ven_sort3['1st Most Common Venue'] == 'Pharmacy')])\n",
    "df_yc6 = pd.DataFrame(vic_ven_sort3.loc[(vic_ven_sort3['1st Most Common Venue'] == 'Train Station')])\n",
    "df_yc7 = pd.DataFrame(vic_ven_sort3.loc[(vic_ven_sort3['1st Most Common Venue'] == 'Playground')])\n",
    "df_yc8 = pd.DataFrame(vic_ven_sort3.loc[(vic_ven_sort3['1st Most Common Venue'] == 'Bakery')])\n",
    "df_yc9 = pd.DataFrame(vic_ven_sort3.loc[(vic_ven_sort3['2nd Most Common Venue'] == 'Pub')])\n",
    "df_yc10 = pd.DataFrame(vic_ven_sort3.loc[(vic_ven_sort3['2nd Most Common Venue'] == 'Pizza Place')])\n",
    "df_yc11 = pd.DataFrame(vic_ven_sort3.loc[(vic_ven_sort3['2nd Most Common Venue'] == 'Café')])\n",
    "df_yc12 = pd.DataFrame(vic_ven_sort3.loc[(vic_ven_sort3['2nd Most Common Venue'] == 'Grocery Store')])\n",
    "df_yc13 = pd.DataFrame(vic_ven_sort3.loc[(vic_ven_sort3['2nd Most Common Venue'] == 'Pharmacy')])\n",
    "df_yc14 = pd.DataFrame(vic_ven_sort3.loc[(vic_ven_sort3['2nd Most Common Venue'] == 'Train Station')])\n",
    "df_yc15 = pd.DataFrame(vic_ven_sort3.loc[(vic_ven_sort3['2nd Most Common Venue'] == 'Playground')])\n",
    "df_yc16 = pd.DataFrame(vic_ven_sort3.loc[(vic_ven_sort3['2nd Most Common Venue'] == 'Bakery')])\n",
    "df_yc17 = pd.DataFrame(vic_ven_sort3.loc[(vic_ven_sort3['3rd Most Common Venue'] == 'Pub')])\n",
    "df_yc18 = pd.DataFrame(vic_ven_sort3.loc[(vic_ven_sort3['3rd Most Common Venue'] == 'Pizza Place')])\n",
    "df_yc19 = pd.DataFrame(vic_ven_sort3.loc[(vic_ven_sort3['3rd Most Common Venue'] == 'Café')])\n",
    "df_yc20 = pd.DataFrame(vic_ven_sort3.loc[(vic_ven_sort3['3rd Most Common Venue'] == 'Grocery Store')])\n",
    "df_yc21 = pd.DataFrame(vic_ven_sort3.loc[(vic_ven_sort3['3rd Most Common Venue'] == 'Pharmacy')])\n",
    "df_yc22 = pd.DataFrame(vic_ven_sort3.loc[(vic_ven_sort3['3rd Most Common Venue'] == 'Train Station')])\n",
    "df_yc23 = pd.DataFrame(vic_ven_sort3.loc[(vic_ven_sort3['3rd Most Common Venue'] == 'Playground')])\n",
    "df_yc24 = pd.DataFrame(vic_ven_sort3.loc[(vic_ven_sort3['3rd Most Common Venue'] == 'Bakery')])\n",
    "\n",
    "df_yc = pd.concat([df_yc1, df_yc2, df_yc3, df_yc4, df_yc5, df_yc6, df_yc7, df_yc8, df_yc9, df_yc10, df_yc11, df_yc12, df_yc13, df_yc14, df_yc15, df_yc16, df_yc17, df_yc18, df_yc19, df_yc20, df_yc21, df_yc22, df_yc23, df_yc24])\n",
    "df_yc.drop_duplicates(keep=False,inplace=True)\n",
    "df_yc.shape"
   ]
  },
  {
   "cell_type": "code",
   "execution_count": null,
   "metadata": {},
   "outputs": [],
   "source": [
    "df_yc.head(100)"
   ]
  },
  {
   "cell_type": "code",
   "execution_count": null,
   "metadata": {},
   "outputs": [],
   "source": [
    "#Now, lets combine this data sets with incidents data set\n",
    "\n",
    "df_good_subs = df_yc.merge(df_viccrime_gud, left_on='Suburb', right_on='Suburb', how='left')\n",
    "df_good_subs = df_good_subs.sort_values(['Suburb'], ascending = True, axis = 0)"
   ]
  },
  {
   "cell_type": "markdown",
   "metadata": {},
   "source": [
    "### Visualise the these suburbs"
   ]
  },
  {
   "cell_type": "code",
   "execution_count": null,
   "metadata": {},
   "outputs": [],
   "source": [
    "df_4plot1 = df_good_subs[['Suburb','Incidents']]\n",
    "\n",
    "df_4plot1.set_index('Suburb',inplace = True)\n",
    "\n",
    "ax = df_4plot1.plot(kind='bar', figsize=(40, 6), rot=0)\n",
    "\n",
    "ax.set_ylabel('Number of Crimes') # add to x-label to the plot\n",
    "ax.set_xlabel('Suburb') # add y-label to the plot\n",
    "ax.set_title('Vic suburbs breakdown') # add title to the plot\n",
    "\n",
    "# Creating a function to display the percentage.\n",
    "\n",
    "for p in ax.patches:\n",
    "    ax.annotate(np.round(p.get_height(),decimals=2), \n",
    "                (p.get_x()+p.get_width()/2., p.get_height()), \n",
    "                ha='center', \n",
    "                va='center', \n",
    "                xytext=(0, 10), \n",
    "                textcoords='offset points',\n",
    "                fontsize = 10\n",
    "               )\n",
    "\n",
    "plt.xticks(rotation=90)\n",
    "plt.show()"
   ]
  },
  {
   "cell_type": "code",
   "execution_count": null,
   "metadata": {},
   "outputs": [],
   "source": [
    "df_tot = df_good_subs[['Suburb','Incidents']]\n",
    "\n",
    "df_tot.head()\n"
   ]
  },
  {
   "cell_type": "code",
   "execution_count": null,
   "metadata": {},
   "outputs": [],
   "source": [
    "#df_tot.plot(kind='scatter', x=df_tot.index, y='Incidents', figsize=(10, 6), color='darkblue')\n",
    "\n",
    "plt.figure(figsize=(20,8), dpi=80)\n",
    "\n",
    "plt.scatter(df_tot.Suburb, df_tot.Incidents)\n",
    "plt.title('Victoria - Suburbs and Crime Breakdown')\n",
    "plt.xlabel('Suburbs')\n",
    "plt.ylabel('Number of Incidents')\n",
    "\n",
    "plt.xticks(rotation=90)\n",
    "\n",
    "plt.show()"
   ]
  },
  {
   "cell_type": "markdown",
   "metadata": {},
   "source": [
    "# Results"
   ]
  },
  {
   "cell_type": "markdown",
   "metadata": {},
   "source": [
    "The aim of this project is to assist young couples, new families, and migrants to come to Victoria and stay in a safe and convenient location. Say for example, as an young couple, they are looking for party life and what not, they will be focussing on cluster 1, we have also identified the possible suburbs they would be intereted in using their first, second and third choice. If a family is planning to move in an area which has playgrounds and heath fitness venues, they would probably consider cluster 2, 4 and 5. While someone who is super exited about Motor bikes would actually choose a suburb in cluster 3.These are some of the findings with our specific target audience. We have also only considered suburbs which are within Melbourne's reach and have been listed in the top 300 suburbs to live in Victoria. Any one should be able to view these clusters and get the outcomes they need."
   ]
  },
  {
   "cell_type": "markdown",
   "metadata": {},
   "source": [
    "# Conclusion and Further Development"
   ]
  },
  {
   "cell_type": "markdown",
   "metadata": {},
   "source": [
    "In the current state of affairs, the most important thing for a human is to make effective decisions considering all the factors which will impact the decision. Doing this without the help of technology is not feasible in this day and age. The above project actually enables a person to use this project and make a informed decision based on two key factors - 1. SAFETY and 2. INTEREST. The future of this project will include other factors like Rent, public transport ratings, school ratings and most of all age group of people living in that suburb."
   ]
  },
  {
   "cell_type": "code",
   "execution_count": null,
   "metadata": {},
   "outputs": [],
   "source": []
  },
  {
   "cell_type": "code",
   "execution_count": null,
   "metadata": {},
   "outputs": [],
   "source": []
  }
 ],
 "metadata": {
  "kernelspec": {
   "display_name": "Python 3.6",
   "language": "python",
   "name": "python3"
  },
  "language_info": {
   "codemirror_mode": {
    "name": "ipython",
    "version": 3
   },
   "file_extension": ".py",
   "mimetype": "text/x-python",
   "name": "python",
   "nbconvert_exporter": "python",
   "pygments_lexer": "ipython3",
   "version": "3.6.9"
  }
 },
 "nbformat": 4,
 "nbformat_minor": 1
}
